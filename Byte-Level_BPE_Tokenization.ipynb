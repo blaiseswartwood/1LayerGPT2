{
 "cells": [
  {
   "cell_type": "markdown",
   "id": "0bbd447f",
   "metadata": {},
   "source": [
    "# Example (Byte-Level BPE Tokenization)"
   ]
  },
  {
   "cell_type": "code",
   "execution_count": 2,
   "id": "9d30ea64",
   "metadata": {},
   "outputs": [
    {
     "name": "stdout",
     "output_type": "stream",
     "text": [
      " step                       vocab  vocab_size\n",
      "    0          [_, e, l, o, r, w]           6\n",
      "    1      [_, e, l, lo, o, r, w]           7\n",
      "    2 [_, e, l, lo, low, o, r, w]           8\n",
      "\n",
      " step                      tokens\n",
      "    0 [l, o, w, _, l, o, w, e, r]\n",
      "    1     [lo, w, _, lo, w, e, r]\n",
      "    2         [low, _, low, e, r]\n"
     ]
    }
   ],
   "source": [
    "\"\"\"\n",
    "Byte‑Level BPE demo:\n",
    "* Learns merges from one ASCII text segment.\n",
    "* Stops when every pair is unique or target vocab size reached.\n",
    "* Prints step‑by‑step tokens and vocabulary with pandas.\n",
    "\"\"\"\n",
    "import sys\n",
    "from collections import Counter\n",
    "import pandas as pd\n",
    "\n",
    "# Example sentence with repeated substrings\n",
    "sentence = \"low_lower\"\n",
    "\n",
    "# Desired vocabulary size (≥ initial size)\n",
    "target_vocab_size = 8 \n",
    "\n",
    "tokens = list(sentence)      # 1️⃣  start at byte level\n",
    "vocab  = set(tokens)         #    current vocabulary\n",
    "\n",
    "history = [(0, tokens.copy(), sorted(vocab))]\n",
    "step = 0\n",
    "\n",
    "while True:\n",
    "    # 2️⃣  stop if pairs unique or vocab limit reached\n",
    "    if target_vocab_size and len(vocab) >= target_vocab_size:\n",
    "        break\n",
    "    pairs = Counter(zip(tokens, tokens[1:]))\n",
    "    if not pairs or max(pairs.values()) <= 1:\n",
    "        break\n",
    "\n",
    "    pair = pairs.most_common(1)[0][0]  # most‑frequent adjacent pair\n",
    "\n",
    "    # 3️⃣  merge selected pair\n",
    "    merged, i = [], 0\n",
    "    while i < len(tokens):\n",
    "        if i < len(tokens) - 1 and (tokens[i], tokens[i + 1]) == pair:\n",
    "            new_tok = tokens[i] + tokens[i + 1]\n",
    "            merged.append(new_tok)\n",
    "            vocab.add(new_tok)\n",
    "            i += 2\n",
    "        else:\n",
    "            merged.append(tokens[i])\n",
    "            i += 1\n",
    "\n",
    "    tokens = merged\n",
    "    step += 1\n",
    "    history.append((step, tokens.copy(), sorted(vocab)))\n",
    "\n",
    "# 4️⃣  tidy DataFrame of the process\n",
    "df = pd.DataFrame(history, columns=[\"step\", \"tokens\", \"vocab\"])\n",
    "df['vocab_size'] = [len(v) for v in df['vocab']]\n",
    "print(df[['step','vocab','vocab_size']].to_string(index=False))\n",
    "print()\n",
    "print(df[['step','tokens']].to_string(index=False))\n"
   ]
  },
  {
   "cell_type": "code",
   "execution_count": null,
   "id": "0b3abf7a",
   "metadata": {},
   "outputs": [],
   "source": []
  },
  {
   "cell_type": "code",
   "execution_count": null,
   "id": "5b198029-f668-43b3-a0af-88cd4cb5885f",
   "metadata": {},
   "outputs": [],
   "source": []
  }
 ],
 "metadata": {
  "kernelspec": {
   "display_name": "Python 3 (ipykernel)",
   "language": "python",
   "name": "python3"
  },
  "language_info": {
   "codemirror_mode": {
    "name": "ipython",
    "version": 3
   },
   "file_extension": ".py",
   "mimetype": "text/x-python",
   "name": "python",
   "nbconvert_exporter": "python",
   "pygments_lexer": "ipython3",
   "version": "3.11.11"
  }
 },
 "nbformat": 4,
 "nbformat_minor": 5
}
